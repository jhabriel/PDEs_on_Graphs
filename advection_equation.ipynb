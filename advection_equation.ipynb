{
 "cells": [
  {
   "cell_type": "markdown",
   "id": "288153b2",
   "metadata": {},
   "source": [
    "# Advection on a graph"
   ]
  },
  {
   "cell_type": "markdown",
   "id": "efea5b09",
   "metadata": {},
   "source": [
    "Consider the advection equation\n",
    "\n",
    "\\begin{equation}\n",
    "    \\frac{\\partial u}{\\partial t} = - \\nabla \\cdot (u\\mathbf{q}) \n",
    "\\end{equation}\n",
    "\n",
    "where $u$ is the concentration of a passive scalar, and $\\mathbf{q}$ is the velocity at which the scalar is being transported.\n",
    "\n",
    "Consider a directed graph $G(V,E)$, where $V=\\{v_1, \\ldots, v_n\\}$ is the set of nodes, and $E={\\{e_1, \\ldots, e_m}$ is the set of edges. An edge $e_j = (v_k,v_l)$ is defined to pointing from $v_k$ to $v_l$. \n",
    "\n",
    "The advection equation on $G$ is given by\n",
    "\n",
    "\\begin{equation}\n",
    "    \\frac{\\mathrm{d} \\mathbf{u}}{\\mathrm{d} t} = D^* Q D^o \\mathbf{u},\n",
    "\\end{equation}\n",
    "\n",
    "where $D^*$ is the $n\\times m$ divergence operator, $Q$ is an $m\\times m$ diagonal matrix containing the velocities $q(e_j)$ on each edge, and $D^o$ is an $m\\times n$ modified gradient operator. \n",
    "\n",
    "The quantity $L_{\\mathrm{adv}} = -D^* Q D^o$ is the advection Laplacian. Thus, the advection equation can be written more compactly as\n",
    "\n",
    "\\begin{equation}\n",
    "    \\frac{\\mathrm{d} \\mathbf{u}}{\\mathrm{d} t} = -L_{\\mathrm{adv}} \\mathbf{u},\n",
    "\\end{equation}\n",
    "\n",
    "Using backward Euler, the algebraic system of equations become\n",
    "\n",
    "\\begin{equation}\n",
    "    \\left(I - \\tau L_{\\mathrm{adv}}\\right) \\mathbf{u}^{n+1} = \\mathbf{u}^n\n",
    "\\end{equation}"
   ]
  },
  {
   "cell_type": "markdown",
   "id": "55877308",
   "metadata": {},
   "source": [
    "## Import packages"
   ]
  },
  {
   "cell_type": "code",
   "execution_count": 1,
   "id": "c571bc9d",
   "metadata": {},
   "outputs": [],
   "source": [
    "import matplotlib.pyplot as plt\n",
    "import networkx as nx\n",
    "import networkx.linalg as nla\n",
    "import numpy as np\n",
    "import scipy.sparse as sps\n",
    "\n",
    "import graph_utils as gu\n",
    "import discrete_operators as do\n",
    "\n",
    "from typing import Tuple"
   ]
  },
  {
   "cell_type": "markdown",
   "id": "5a8dd104",
   "metadata": {},
   "source": [
    "## Create a directed graph"
   ]
  },
  {
   "cell_type": "code",
   "execution_count": 2,
   "id": "939f99c9",
   "metadata": {},
   "outputs": [
    {
     "data": {
      "image/png": "[encoded data removed]",
      "text/plain": [
       "<Figure size 720x504 with 1 Axes>"
      ]
     },
     "metadata": {},
     "output_type": "display_data"
    }
   ],
   "source": [
    "# Initialize directed \n",
    "G = nx.DiGraph()\n",
    "\n",
    "# Add nodes v_i\n",
    "G.add_node(0)\n",
    "G.add_node(1)\n",
    "G.add_node(2)\n",
    "G.add_node(3)\n",
    "G.add_node(4)\n",
    "\n",
    "# Add edges e_j = (v_k, v_l). Tail is v_k and head is v_l.\n",
    "G.add_edge(0, 1)\n",
    "G.add_edge(2, 1)\n",
    "G.add_edge(3, 2)\n",
    "G.add_edge(4, 3)\n",
    "G.add_edge(0, 4)\n",
    "G.add_edge(0, 2)\n",
    "\n",
    "# Assign positions to the nodes in the graph\n",
    "gu.assign_node_position(G)\n",
    "\n",
    "# Plot graph\n",
    "gu.plot_directed_graph(G, show_plot=True)"
   ]
  },
  {
   "cell_type": "markdown",
   "id": "51e093d9",
   "metadata": {},
   "source": [
    "## Initial conditions and time parameters"
   ]
  },
  {
   "cell_type": "code",
   "execution_count": 3,
   "id": "62630d8e",
   "metadata": {},
   "outputs": [],
   "source": [
    "# Concentration equal to zero on all nodes except on node 4\n",
    "initial_conditions = np.zeros(G.number_of_nodes())\n",
    "initial_conditions[4] = 1\n",
    "\n",
    "# Time parameters\n",
    "T = 8  # final time\n",
    "dt = 0.01  # time step\n",
    "times = list(np.linspace(0, T, int(T/dt)+1))  # times"
   ]
  },
  {
   "cell_type": "markdown",
   "id": "b0a346c8",
   "metadata": {},
   "source": [
    "## Operators"
   ]
  },
  {
   "cell_type": "code",
   "execution_count": 4,
   "id": "2717d8af",
   "metadata": {},
   "outputs": [],
   "source": [
    "# Construct the velocity matrix\n",
    "edge_velocities = np.ones(G.number_of_edges())\n",
    "velocity_matrix = do.velocity_matrix(edge_velocities)\n",
    "\n",
    "# Obtain the divergence\n",
    "divergence = do.divergence_operator(G)\n",
    "\n",
    "# Obtain the modified gradient operator\n",
    "modified_gradient = do.modified_gradient_operator(do.gradient_operator(G))\n",
    "\n",
    "# Obtain advection Laplacian\n",
    "advection_laplacian = - divergence * velocity_matrix * modified_gradient\n",
    "\n",
    "# Identity matrix\n",
    "identity = np.eye(G.number_of_nodes())\n",
    "\n",
    "# Matrix of coefficients\n",
    "A = identity + dt * advection_laplacian"
   ]
  },
  {
   "cell_type": "markdown",
   "id": "ec61af33",
   "metadata": {},
   "source": [
    "## Solve system of ODEs"
   ]
  },
  {
   "cell_type": "code",
   "execution_count": 5,
   "id": "5726289a",
   "metadata": {},
   "outputs": [],
   "source": [
    "# Create plotly node and edge traces\n",
    "edge_trace = gu.get_edge_trace(G)\n",
    "node_trace = gu.get_node_trace(G, color_vals=initial_conditions, node_size=40)\n",
    "data = [[edge_trace, node_trace]]\n",
    "\n",
    "u0 = initial_conditions\n",
    "\n",
    "for t in times[1:]:\n",
    "\n",
    "    # Solve linear system\n",
    "    u = np.linalg.solve(A.A, u0)   \n",
    "    \n",
    "    # Update node trace\n",
    "    node_trace = gu.get_node_trace(G, color_vals=u, node_size=40)\n",
    "    data.append([edge_trace, node_trace])\n",
    "    \n",
    "    # Update value for next time step\n",
    "    u0 = u"
   ]
  },
  {
   "cell_type": "markdown",
   "id": "61b4f8f3",
   "metadata": {},
   "source": [
    "## Show animation"
   ]
  },
  {
   "cell_type": "code",
   "execution_count": 6,
   "id": "cfd6f81d",
   "metadata": {},
   "outputs": [],
   "source": [
    "#fig = gu.animate_graph(data, times, show_animation=True, title=\"Advection on a graph\")"
   ]
  }
 ],
 "metadata": {
  "kernelspec": {
   "display_name": "Python 3 (ipykernel)",
   "language": "python",
   "name": "python3"
  },
  "language_info": {
   "codemirror_mode": {
    "name": "ipython",
    "version": 3
   },
   "file_extension": ".py",
   "mimetype": "text/x-python",
   "name": "python",
   "nbconvert_exporter": "python",
   "pygments_lexer": "ipython3",
   "version": "3.9.7"
  }
 },
 "nbformat": 4,
 "nbformat_minor": 5
}
